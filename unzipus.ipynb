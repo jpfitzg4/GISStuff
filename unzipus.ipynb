{
 "cells": [
  {
   "cell_type": "code",
   "execution_count": 1,
   "metadata": {},
   "outputs": [],
   "source": [
    "import zipfile, os, glob\n",
    "\n",
    "zip_dir = r\"C:\\DEM\"                 # folder with your zip files\n",
    "out_dir = r\"C:\\DEMEx\"               # single output folder"
   ]
  },
  {
   "cell_type": "code",
   "execution_count": 2,
   "metadata": {},
   "outputs": [],
   "source": [
    "os.makedirs(out_dir, exist_ok=True)\n",
    "\n",
    "for zfile in glob.glob(os.path.join(zip_dir, \"*.zip\")):\n",
    "    with zipfile.ZipFile(zfile, 'r') as zip_ref:\n",
    "        zip_ref.extractall(out_dir)"
   ]
  }
 ],
 "metadata": {
  "kernelspec": {
   "display_name": "ArcGISPro",
   "language": "python",
   "name": "python3"
  },
  "language_info": {
   "file_extension": ".py",
   "mimetype": "text/x-python",
   "name": "python",
   "version": "3.11.10"
  }
 },
 "nbformat": 4,
 "nbformat_minor": 4
}
